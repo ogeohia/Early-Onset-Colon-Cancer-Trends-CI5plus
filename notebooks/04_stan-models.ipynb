{
 "cells": [
  {
   "cell_type": "markdown",
   "id": "17795740",
   "metadata": {},
   "source": [
    "## Setup and installs"
   ]
  },
  {
   "cell_type": "code",
   "execution_count": null,
   "id": "96ddf592",
   "metadata": {},
   "outputs": [
    {
     "name": "stdout",
     "output_type": "stream",
     "text": [
      "Note: you may need to restart the kernel to use updated packages.\n",
      "Note: you may need to restart the kernel to use updated packages.\n"
     ]
    },
    {
     "name": "stderr",
     "output_type": "stream",
     "text": [
      "/Users/ogeohia/anaconda3/envs/colon-cancer-data/lib/python3.13/site-packages/tqdm/auto.py:21: TqdmWarning: IProgress not found. Please update jupyter and ipywidgets. See https://ipywidgets.readthedocs.io/en/stable/user_install.html\n",
      "  from .autonotebook import tqdm as notebook_tqdm\n"
     ]
    },
    {
     "name": "stdout",
     "output_type": "stream",
     "text": [
      "Python: /Users/ogeohia/anaconda3/envs/colon-cancer-data/bin/python\n",
      "CmdStan path: /Users/ogeohia/anaconda3/envs/colon-cancer-data/bin/cmdstan\n",
      "CmdStan install directory: /Users/ogeohia/.cmdstan\n",
      "Installing CmdStan version: 2.37.0\n",
      "Downloading CmdStan version 2.37.0\n",
      "Download successful, file: /var/folders/sv/358t1yp13rld61ff_m2ty5p40000gn/T/tmpmn9n6sbh\n",
      "Extracting distribution\n",
      "Unpacked download as cmdstan-2.37.0\n",
      "Building version cmdstan-2.37.0, may take several minutes, depending on your system.\n",
      "Installed cmdstan-2.37.0\n",
      "Test model compilation\n"
     ]
    },
    {
     "data": {
      "text/plain": [
       "True"
      ]
     },
     "execution_count": 2,
     "metadata": {},
     "output_type": "execute_result"
    }
   ],
   "source": [
    "# Install into current kernel \n",
    "%pip install --quiet --upgrade pip\n",
    "%pip install --quiet pandas numpy patsy cmdstanpy arviz xarray netcdf4\n",
    "\n",
    "# Ensure project root\n",
    "import os\n",
    "os.chdir('/Users/ogeohia/PYTHON/eo-colon-cancer-trends-ci5plus')\n",
    "print(\"CWD:\", os.getcwd())\n",
    "print(\"Python:\", sys.executable)\n",
    "print(\"CmdStan path:\", csp.cmdstan_path() or \"Not installed\")\n",
    "\n",
    "# CmdStan toolchain installation\n",
    "csp.install_cmdstan()"
   ]
  },
  {
   "cell_type": "markdown",
   "id": "b292b6d4",
   "metadata": {},
   "source": [
    "## Load data and build Stan inputs"
   ]
  },
  {
   "cell_type": "code",
   "execution_count": 4,
   "id": "ec0c4222",
   "metadata": {},
   "outputs": [
    {
     "data": {
      "text/plain": [
       "(92326, 5, 48, 12)"
      ]
     },
     "execution_count": 4,
     "metadata": {},
     "output_type": "execute_result"
    }
   ],
   "source": [
    "df = pd.read_csv(\"../data/colon_cancer_full.csv\")\n",
    "assert (df['py'] > 0).all(), \"Found zero/negative py values.\"\n",
    "\n",
    "# Age spline (df=4 as in your GLM)\n",
    "age_spline = dmatrix(\"bs(age_cont, df=4, include_intercept=False)\", data=df, return_type='dataframe')\n",
    "B_age = np.asarray(age_spline)\n",
    "K_age = B_age.shape[1]\n",
    "\n",
    "# Indicators and IDs\n",
    "df['male_ind'] = (df['sex_label'] == 'Male').astype(int)\n",
    "\n",
    "country_codes = {c:i+1 for i,c in enumerate(sorted(df['country'].unique()))}\n",
    "region_codes  = {r:i+1 for i,r in enumerate(sorted(df['region'].unique()))}\n",
    "\n",
    "country_id = df['country'].map(country_codes).astype(int).to_numpy()\n",
    "J_country = len(country_codes)\n",
    "\n",
    "# Country -> region mapping\n",
    "country_to_region = df.groupby('country')['region'].first().to_dict()\n",
    "region_id_country = np.array(\n",
    "    [region_codes[country_to_region[c]] for c,_i in sorted(country_codes.items(), key=lambda x: x[1])],\n",
    "    dtype=int\n",
    ")\n",
    "R_region = len(region_codes)\n",
    "\n",
    "year_c = (df['year'] - df['year'].mean()).to_numpy()\n",
    "\n",
    "stan_data = {\n",
    "    'N': len(df),\n",
    "    'y': df['cases'].astype(int).to_numpy(),\n",
    "    'py': df['py'].to_numpy(),\n",
    "    'J_country': J_country,\n",
    "    'R_region': R_region,\n",
    "    'country_id': country_id,\n",
    "    'region_id_country': region_id_country,\n",
    "    'K_age': K_age,\n",
    "    'B_age': B_age,\n",
    "    'male': df['male_ind'].astype(int).to_numpy(),\n",
    "    'year_c': year_c\n",
    "}\n",
    "len(df), K_age, J_country, R_region"
   ]
  },
  {
   "cell_type": "markdown",
   "id": "2a12b354",
   "metadata": {},
   "source": [
    "## Write Stan model "
   ]
  },
  {
   "cell_type": "code",
   "execution_count": 8,
   "id": "a94cd886",
   "metadata": {},
   "outputs": [
    {
     "name": "stdout",
     "output_type": "stream",
     "text": [
      "Wrote: models/hierarchical_colon_nb.stan\n"
     ]
    }
   ],
   "source": [
    "stan_src = r\"\"\"\n",
    "data {\n",
    "  int<lower=1> N;\n",
    "  array[N] int<lower=0> y;\n",
    "  vector<lower=0>[N] py;\n",
    "  int<lower=1> J_country;\n",
    "  int<lower=1> R_region;\n",
    "  array[N] int<lower=1> country_id;\n",
    "  array[J_country] int<lower=1> region_id_country;\n",
    "  int<lower=1> K_age;\n",
    "  matrix[N, K_age] B_age;\n",
    "  array[N] int<lower=0, upper=1> male;\n",
    "  vector[N] year_c;\n",
    "}\n",
    "parameters {\n",
    "  real alpha;\n",
    "  vector[R_region] z_region;\n",
    "  real<lower=0> sigma_region;\n",
    "  vector[J_country] z_country;\n",
    "  real<lower=0> sigma_country;\n",
    "  vector[K_age] beta_age;\n",
    "  real beta_male;\n",
    "  real beta_year;\n",
    "  real<lower=0> phi;\n",
    "}\n",
    "transformed parameters {\n",
    "  vector[R_region] region_eff = z_region * sigma_region;\n",
    "  vector[J_country] country_eff;\n",
    "  for (j in 1:J_country)\n",
    "    country_eff[j] = region_eff[ region_id_country[j] ] + z_country[j] * sigma_country;\n",
    "}\n",
    "model {\n",
    "  alpha        ~ normal(0, 2);\n",
    "  z_region     ~ normal(0, 1);\n",
    "  sigma_region ~ exponential(1);\n",
    "  z_country    ~ normal(0, 1);\n",
    "  sigma_country~ exponential(1);\n",
    "  beta_age     ~ normal(0, 1);\n",
    "  beta_male    ~ normal(0, 1);\n",
    "  beta_year    ~ normal(0, 0.5);\n",
    "  phi          ~ exponential(1);\n",
    "\n",
    "  for (n in 1:N) {\n",
    "    real eta = alpha\n",
    "               + country_eff[country_id[n]]\n",
    "               + B_age[n] * beta_age\n",
    "               + beta_male * male[n]\n",
    "               + beta_year * year_c[n]\n",
    "               + log(py[n]);\n",
    "    y[n] ~ neg_binomial_2_log(eta, phi);\n",
    "  }\n",
    "}\n",
    "generated quantities {\n",
    "  vector[N] log_lambda;\n",
    "  array[N] int y_rep;\n",
    "  for (n in 1:N) {\n",
    "    real eta = alpha\n",
    "               + country_eff[country_id[n]]\n",
    "               + B_age[n] * beta_age\n",
    "               + beta_male * male[n]\n",
    "               + beta_year * year_c[n]\n",
    "               + log(py[n]);\n",
    "    log_lambda[n] = eta;\n",
    "    y_rep[n] = neg_binomial_2_log_rng(eta, phi);\n",
    "  }\n",
    "}\n",
    "\"\"\"\n",
    "os.makedirs(\"models\", exist_ok=True)\n",
    "stan_path = \"models/hierarchical_colon_nb.stan\"\n",
    "with open(stan_path, \"w\", encoding=\"utf-8\") as f:\n",
    "    f.write(stan_src)\n",
    "print(\"Wrote:\", stan_path)"
   ]
  },
  {
   "cell_type": "code",
   "execution_count": null,
   "id": "b95a031e",
   "metadata": {},
   "outputs": [
    {
     "name": "stderr",
     "output_type": "stream",
     "text": [
      "18:47:32 - cmdstanpy - INFO - compiling stan file /Users/ogeohia/PYTHON/eo-colon-cancer-trends-ci5plus/notebooks/models/hierarchical_colon_nb.stan to exe file /Users/ogeohia/PYTHON/eo-colon-cancer-trends-ci5plus/notebooks/models/hierarchical_colon_nb\n",
      "18:47:52 - cmdstanpy - INFO - compiled model executable: /Users/ogeohia/PYTHON/eo-colon-cancer-trends-ci5plus/notebooks/models/hierarchical_colon_nb\n",
      "18:47:55 - cmdstanpy - INFO - CmdStan start processing\n",
      "chain 1 |\u001b[33m          \u001b[0m| 00:00 Status\n",
      "\u001b[A\n",
      "\n",
      "\u001b[A\u001b[A\n",
      "\u001b[A\n",
      "\n",
      "chain 1 |\u001b[33m▍         \u001b[0m| 00:01 Status\n",
      "\n",
      "chain 1 |\u001b[33m▉         \u001b[0m| 02:21 Iteration:    1 / 2000 [  0%]  (Warmup)\n",
      "\u001b[A"
     ]
    }
   ],
   "source": [
    "model = CmdStanModel(stan_file=\"models/hierarchical_colon_nb.stan\", force_compile=True)\n",
    "\n",
    "fit = model.sample(\n",
    "    data=stan_data,\n",
    "    chains=4, parallel_chains=4,\n",
    "    iter_warmup=1000, iter_sampling=1000,\n",
    "    adapt_delta=0.95, max_treedepth=12\n",
    ")\n",
    "\n",
    "print(fit)\n",
    "fit.summary().loc[['alpha','sigma_region','sigma_country','beta_male','beta_year','phi']]"
   ]
  }
 ],
 "metadata": {
  "kernelspec": {
   "display_name": "colon-cancer-data",
   "language": "python",
   "name": "python3"
  },
  "language_info": {
   "codemirror_mode": {
    "name": "ipython",
    "version": 3
   },
   "file_extension": ".py",
   "mimetype": "text/x-python",
   "name": "python",
   "nbconvert_exporter": "python",
   "pygments_lexer": "ipython3",
   "version": "3.13.7"
  }
 },
 "nbformat": 4,
 "nbformat_minor": 5
}
