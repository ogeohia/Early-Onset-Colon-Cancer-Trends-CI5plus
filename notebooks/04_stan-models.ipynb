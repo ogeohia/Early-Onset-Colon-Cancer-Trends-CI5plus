{
 "cells": [
  {
   "cell_type": "markdown",
   "id": "20199090",
   "metadata": {},
   "source": [
    "## Setup and installs"
   ]
  },
  {
   "cell_type": "code",
   "execution_count": null,
   "id": "197338fe",
   "metadata": {},
   "outputs": [
    {
     "name": "stdout",
     "output_type": "stream",
     "text": [
      "Note: you may need to restart the kernel to use updated packages.\n",
      "Note: you may need to restart the kernel to use updated packages.\n",
      "Python: /Users/ogeohia/anaconda3/envs/colon-cancer-data/bin/python\n",
      "CmdStan installed: /Users/ogeohia/anaconda3/envs/colon-cancer-data/bin/cmdstan\n"
     ]
    },
    {
     "name": "stderr",
     "output_type": "stream",
     "text": [
      "/Users/ogeohia/anaconda3/envs/colon-cancer-data/lib/python3.13/site-packages/tqdm/auto.py:21: TqdmWarning: IProgress not found. Please update jupyter and ipywidgets. See https://ipywidgets.readthedocs.io/en/stable/user_install.html\n",
      "  from .autonotebook import tqdm as notebook_tqdm\n"
     ]
    }
   ],
   "source": [
    "# Setup and installs\n",
    "%pip install --quiet --upgrade pip\n",
    "%pip install --quiet pandas numpy patsy statsmodels cmdstanpy arviz xarray netcdf4\n",
    "\n",
    "import os, sys\n",
    "import numpy as np\n",
    "import pandas as pd\n",
    "from patsy import dmatrix\n",
    "import arviz as az\n",
    "from cmdstanpy import CmdStanModel\n",
    "import cmdstanpy as csp\n",
    "\n",
    "# Optional: set project root so relative paths work\n",
    "os.chdir('/Users/ogeohia/PYTHON/eo-colon-cancer-trends-ci5plus')\n",
    "\n",
    "print(\"Python:\", sys.executable)\n",
    "print(\"CmdStan installed:\", csp.cmdstan_path() if csp.cmdstan_path() else \"No\")\n",
    "\n",
    "# One-time (first run) install of CmdStan toolchain; skip if already installed\n",
    "if not csp.cmdstan_path():\n",
    "    csp.install_cmdstan()"
   ]
  },
  {
   "cell_type": "markdown",
   "id": "64c621ab",
   "metadata": {},
   "source": [
    "## Load data and build spline"
   ]
  },
  {
   "cell_type": "code",
   "execution_count": 2,
   "id": "653d1402",
   "metadata": {},
   "outputs": [
    {
     "data": {
      "text/plain": [
       "(92326, 5, 48, 12)"
      ]
     },
     "execution_count": 2,
     "metadata": {},
     "output_type": "execute_result"
    }
   ],
   "source": [
    "# Load data and build spline basis\n",
    "df = pd.read_csv(\"data/colon_cancer_full.csv\")\n",
    "\n",
    "# Basic checks\n",
    "assert (df['py'] > 0).all(), \"Found zero/negative py values.\"\n",
    "\n",
    "# Age spline (df=4 like your GLM)\n",
    "age_spline = dmatrix(\"bs(age_cont, df=4, include_intercept=False)\",\n",
    "                     data=df, return_type='dataframe')\n",
    "B_age = np.asarray(age_spline)\n",
    "K_age = B_age.shape[1]\n",
    "\n",
    "# Male indicator\n",
    "df['male_ind'] = (df['sex_label'] == 'Male').astype(int)\n",
    "\n",
    "# Integer IDs for country and region\n",
    "country_codes = {c:i+1 for i,c in enumerate(sorted(df['country'].unique()))}\n",
    "region_codes  = {r:i+1 for i,r in enumerate(sorted(df['region'].unique()))}\n",
    "\n",
    "country_id = df['country'].map(country_codes).astype(int).to_numpy()\n",
    "J_country = len(country_codes)\n",
    "\n",
    "# Country -> region mapping\n",
    "country_to_region = df.groupby('country')['region'].first().to_dict()\n",
    "region_id_country = np.array([region_codes[country_to_region[c]]\n",
    "                              for c,_idx in sorted(country_codes.items(), key=lambda x: x[1])], dtype=int)\n",
    "R_region = len(region_codes)\n",
    "\n",
    "# Center year (optional)\n",
    "year_c = (df['year'] - df['year'].mean()).to_numpy()\n",
    "\n",
    "stan_data = {\n",
    "    'N': len(df),\n",
    "    'y': df['cases'].astype(int).to_numpy(),\n",
    "    'py': df['py'].to_numpy(),\n",
    "    'J_country': J_country,\n",
    "    'R_region': R_region,\n",
    "    'country_id': country_id,\n",
    "    'region_id_country': region_id_country,\n",
    "    'K_age': K_age,\n",
    "    'B_age': B_age,\n",
    "    'male': df['male_ind'].astype(int).to_numpy(),\n",
    "    'year_c': year_c\n",
    "}\n",
    "\n",
    "len(df), K_age, J_country, R_region"
   ]
  },
  {
   "cell_type": "markdown",
   "id": "b2586d28",
   "metadata": {},
   "source": [
    "## Write Stan model file"
   ]
  },
  {
   "cell_type": "code",
   "execution_count": 5,
   "id": "054f3e59",
   "metadata": {},
   "outputs": [
    {
     "name": "stdout",
     "output_type": "stream",
     "text": [
      "Wrote: models/hierarchical_colon_nb.stan\n"
     ]
    }
   ],
   "source": [
    "# Write Stan model to disk\n",
    "stan_src = r\"\"\"\n",
    "data {\n",
    "  int<lower=1> N;\n",
    "  array[N] int<lower=0> y;                 // was: int<lower=0> y[N];\n",
    "  vector<lower=0>[N] py;\n",
    "  int<lower=1> J_country;\n",
    "  int<lower=1> R_region;\n",
    "  array[N] int<lower=1> country_id;        // was: int<lower=1> country_id[N];\n",
    "  array[J_country] int<lower=1> region_id_country; // was: int<lower=1> region_id_country[J_country];\n",
    "  int<lower=1> K_age;\n",
    "  matrix[N, K_age] B_age;\n",
    "  array[N] int<lower=0, upper=1> male;     // was: int<lower=0,upper=1> male[N];\n",
    "  vector[N] year_c;\n",
    "}\n",
    "parameters {\n",
    "  real alpha;\n",
    "  vector[R_region] z_region;\n",
    "  real<lower=0> sigma_region;\n",
    "  vector[J_country] z_country;\n",
    "  real<lower=0> sigma_country;\n",
    "  vector[K_age] beta_age;\n",
    "  real beta_male;\n",
    "  real beta_year;\n",
    "  real<lower=0> phi;\n",
    "}\n",
    "transformed parameters {\n",
    "  vector[R_region] region_eff = z_region * sigma_region;\n",
    "  vector[J_country] country_eff;\n",
    "  for (j in 1:J_country)\n",
    "    country_eff[j] = region_eff[ region_id_country[j] ] + z_country[j] * sigma_country;\n",
    "}\n",
    "model {\n",
    "  // Priors\n",
    "  alpha        ~ normal(0, 2);\n",
    "  z_region     ~ normal(0, 1);\n",
    "  sigma_region ~ exponential(1);\n",
    "  z_country    ~ normal(0, 1);\n",
    "  sigma_country~ exponential(1);\n",
    "  beta_age     ~ normal(0, 1);\n",
    "  beta_male    ~ normal(0, 1);\n",
    "  beta_year    ~ normal(0, 0.5);\n",
    "  phi          ~ exponential(1);\n",
    "\n",
    "  // Likelihood\n",
    "  for (n in 1:N) {\n",
    "    real eta = alpha\n",
    "               + country_eff[country_id[n]]\n",
    "               + B_age[n] * beta_age\n",
    "               + beta_male * male[n]\n",
    "               + beta_year * year_c[n]\n",
    "               + log(py[n]);\n",
    "    y[n] ~ neg_binomial_2_log(eta, phi);\n",
    "  }\n",
    "}\n",
    "generated quantities {\n",
    "  vector[N] log_lambda;\n",
    "  int y_rep[N];\n",
    "  for (n in 1:N) {\n",
    "    real eta = alpha\n",
    "               + country_eff[country_id[n]]\n",
    "               + B_age[n] * beta_age\n",
    "               + beta_male * male[n]\n",
    "               + beta_year * year_c[n]\n",
    "               + log(py[n]);\n",
    "    log_lambda[n] = eta;\n",
    "    y_rep[n] = neg_binomial_2_log_rng(eta, phi);\n",
    "  }\n",
    "}\n",
    "\"\"\"\n",
    "os.makedirs(\"models\", exist_ok=True)\n",
    "stan_path = \"models/hierarchical_colon_nb.stan\"\n",
    "with open(stan_path, \"w\", encoding=\"utf-8\") as f:\n",
    "    f.write(stan_src)\n",
    "print(\"Wrote:\", stan_path)"
   ]
  },
  {
   "cell_type": "markdown",
   "id": "f0ed9f23",
   "metadata": {},
   "source": [
    "## Compile and sample"
   ]
  },
  {
   "cell_type": "code",
   "execution_count": 6,
   "id": "4cb5ca60",
   "metadata": {},
   "outputs": [
    {
     "name": "stderr",
     "output_type": "stream",
     "text": [
      "17:42:41 - cmdstanpy - INFO - compiling stan file /Users/ogeohia/PYTHON/eo-colon-cancer-trends-ci5plus/models/hierarchical_colon_nb.stan to exe file /Users/ogeohia/PYTHON/eo-colon-cancer-trends-ci5plus/models/hierarchical_colon_nb\n"
     ]
    },
    {
     "ename": "ValueError",
     "evalue": "Failed to compile Stan model '/Users/ogeohia/PYTHON/eo-colon-cancer-trends-ci5plus/models/hierarchical_colon_nb.stan'. Console:\n\n--- Translating Stan model to C++ code ---\nbin/stanc --filename-in-msg=hierarchical_colon_nb.stan --o=/Users/ogeohia/PYTHON/eo-colon-cancer-trends-ci5plus/models/hierarchical_colon_nb.hpp /Users/ogeohia/PYTHON/eo-colon-cancer-trends-ci5plus/models/hierarchical_colon_nb.stan\nSyntax error in 'hierarchical_colon_nb.stan', line 57, column 12 to column 13, parsing error:\n   -------------------------------------------------\n    55:  generated quantities {\n    56:    vector[N] log_lambda;\n    57:    int y_rep[N];\n                     ^\n    58:    for (n in 1:N) {\n    59:      real eta = alpha\n   -------------------------------------------------\n\n\";\" expected after variable declaration.\nIt looks like you are trying to use the old array syntax.\nPlease use the new syntax:\narray[N] int y_rep;\nmake: *** [make/program:66: /Users/ogeohia/PYTHON/eo-colon-cancer-trends-ci5plus/models/hierarchical_colon_nb.hpp] Error 1\n\nCommand ['make', 'STANCFLAGS+=--filename-in-msg=hierarchical_colon_nb.stan', '/Users/ogeohia/PYTHON/eo-colon-cancer-trends-ci5plus/models/hierarchical_colon_nb']\n\terror during processing No such file or directory\n",
     "output_type": "error",
     "traceback": [
      "\u001b[31m---------------------------------------------------------------------------\u001b[39m",
      "\u001b[31mValueError\u001b[39m                                Traceback (most recent call last)",
      "\u001b[36mCell\u001b[39m\u001b[36m \u001b[39m\u001b[32mIn[6]\u001b[39m\u001b[32m, line 2\u001b[39m\n\u001b[32m      1\u001b[39m \u001b[38;5;66;03m# Compile and sample\u001b[39;00m\n\u001b[32m----> \u001b[39m\u001b[32m2\u001b[39m model = \u001b[43mCmdStanModel\u001b[49m\u001b[43m(\u001b[49m\u001b[43mstan_file\u001b[49m\u001b[43m=\u001b[49m\u001b[33;43m\"\u001b[39;49m\u001b[33;43mmodels/hierarchical_colon_nb.stan\u001b[39;49m\u001b[33;43m\"\u001b[39;49m\u001b[43m)\u001b[49m\n\u001b[32m      4\u001b[39m fit = model.sample(\n\u001b[32m      5\u001b[39m     data=stan_data,\n\u001b[32m      6\u001b[39m     chains=\u001b[32m4\u001b[39m, parallel_chains=\u001b[32m4\u001b[39m,\n\u001b[32m      7\u001b[39m     iter_warmup=\u001b[32m1000\u001b[39m, iter_sampling=\u001b[32m1000\u001b[39m,\n\u001b[32m      8\u001b[39m     adapt_delta=\u001b[32m0.95\u001b[39m, max_treedepth=\u001b[32m12\u001b[39m\n\u001b[32m      9\u001b[39m )\n\u001b[32m     11\u001b[39m \u001b[38;5;28mprint\u001b[39m(fit)\n",
      "\u001b[36mFile \u001b[39m\u001b[32m~/anaconda3/envs/colon-cancer-data/lib/python3.13/site-packages/cmdstanpy/model.py:257\u001b[39m, in \u001b[36mCmdStanModel.__init__\u001b[39m\u001b[34m(self, model_name, stan_file, exe_file, force_compile, stanc_options, cpp_options, user_header, compile)\u001b[39m\n\u001b[32m    254\u001b[39m         get_logger().debug(\u001b[33m\"\u001b[39m\u001b[33mTBB already found in load path\u001b[39m\u001b[33m\"\u001b[39m)\n\u001b[32m    256\u001b[39m \u001b[38;5;28;01mif\u001b[39;00m \u001b[38;5;28mcompile\u001b[39m \u001b[38;5;129;01mand\u001b[39;00m \u001b[38;5;28mself\u001b[39m._exe_file \u001b[38;5;129;01mis\u001b[39;00m \u001b[38;5;28;01mNone\u001b[39;00m:\n\u001b[32m--> \u001b[39m\u001b[32m257\u001b[39m     \u001b[38;5;28;43mself\u001b[39;49m\u001b[43m.\u001b[49m\u001b[43mcompile\u001b[49m\u001b[43m(\u001b[49m\u001b[43mforce\u001b[49m\u001b[43m=\u001b[49m\u001b[38;5;28;43mstr\u001b[39;49m\u001b[43m(\u001b[49m\u001b[38;5;28;43mcompile\u001b[39;49m\u001b[43m)\u001b[49m\u001b[43m.\u001b[49m\u001b[43mlower\u001b[49m\u001b[43m(\u001b[49m\u001b[43m)\u001b[49m\u001b[43m \u001b[49m\u001b[43m==\u001b[49m\u001b[43m \u001b[49m\u001b[33;43m'\u001b[39;49m\u001b[33;43mforce\u001b[39;49m\u001b[33;43m'\u001b[39;49m\u001b[43m,\u001b[49m\u001b[43m \u001b[49m\u001b[43m_internal\u001b[49m\u001b[43m=\u001b[49m\u001b[38;5;28;43;01mTrue\u001b[39;49;00m\u001b[43m)\u001b[49m\n",
      "\u001b[36mFile \u001b[39m\u001b[32m~/anaconda3/envs/colon-cancer-data/lib/python3.13/site-packages/cmdstanpy/model.py:465\u001b[39m, in \u001b[36mCmdStanModel.compile\u001b[39m\u001b[34m(self, force, stanc_options, cpp_options, user_header, override_options, _internal)\u001b[39m\n\u001b[32m    462\u001b[39m         \u001b[38;5;28;01melse\u001b[39;00m:\n\u001b[32m    463\u001b[39m             \u001b[38;5;28mself\u001b[39m._compiler_options.add(compiler_options)\n\u001b[32m--> \u001b[39m\u001b[32m465\u001b[39m \u001b[38;5;28mself\u001b[39m._exe_file = \u001b[43mcompilation\u001b[49m\u001b[43m.\u001b[49m\u001b[43mcompile_stan_file\u001b[49m\u001b[43m(\u001b[49m\n\u001b[32m    466\u001b[39m \u001b[43m    \u001b[49m\u001b[38;5;28;43mstr\u001b[39;49m\u001b[43m(\u001b[49m\u001b[38;5;28;43mself\u001b[39;49m\u001b[43m.\u001b[49m\u001b[43mstan_file\u001b[49m\u001b[43m)\u001b[49m\u001b[43m,\u001b[49m\n\u001b[32m    467\u001b[39m \u001b[43m    \u001b[49m\u001b[43mforce\u001b[49m\u001b[43m=\u001b[49m\u001b[43mforce\u001b[49m\u001b[43m,\u001b[49m\n\u001b[32m    468\u001b[39m \u001b[43m    \u001b[49m\u001b[43mstanc_options\u001b[49m\u001b[43m=\u001b[49m\u001b[38;5;28;43mself\u001b[39;49m\u001b[43m.\u001b[49m\u001b[43m_compiler_options\u001b[49m\u001b[43m.\u001b[49m\u001b[43mstanc_options\u001b[49m\u001b[43m,\u001b[49m\n\u001b[32m    469\u001b[39m \u001b[43m    \u001b[49m\u001b[43mcpp_options\u001b[49m\u001b[43m=\u001b[49m\u001b[38;5;28;43mself\u001b[39;49m\u001b[43m.\u001b[49m\u001b[43m_compiler_options\u001b[49m\u001b[43m.\u001b[49m\u001b[43mcpp_options\u001b[49m\u001b[43m,\u001b[49m\n\u001b[32m    470\u001b[39m \u001b[43m    \u001b[49m\u001b[43muser_header\u001b[49m\u001b[43m=\u001b[49m\u001b[38;5;28;43mself\u001b[39;49m\u001b[43m.\u001b[49m\u001b[43m_compiler_options\u001b[49m\u001b[43m.\u001b[49m\u001b[43muser_header\u001b[49m\u001b[43m,\u001b[49m\n\u001b[32m    471\u001b[39m \u001b[43m\u001b[49m\u001b[43m)\u001b[49m\n",
      "\u001b[36mFile \u001b[39m\u001b[32m~/anaconda3/envs/colon-cancer-data/lib/python3.13/site-packages/cmdstanpy/compilation.py:481\u001b[39m, in \u001b[36mcompile_stan_file\u001b[39m\u001b[34m(src, force, stanc_options, cpp_options, user_header)\u001b[39m\n\u001b[32m    474\u001b[39m     \u001b[38;5;28;01mif\u001b[39;00m \u001b[33m'\u001b[39m\u001b[33mPCH\u001b[39m\u001b[33m'\u001b[39m \u001b[38;5;129;01min\u001b[39;00m console \u001b[38;5;129;01mor\u001b[39;00m \u001b[33m'\u001b[39m\u001b[33mprecompiled header\u001b[39m\u001b[33m'\u001b[39m \u001b[38;5;129;01min\u001b[39;00m console:\n\u001b[32m    475\u001b[39m         get_logger().warning(\n\u001b[32m    476\u001b[39m             \u001b[33m\"\u001b[39m\u001b[33mCmdStan\u001b[39m\u001b[33m'\u001b[39m\u001b[33ms precompiled header (PCH) files \u001b[39m\u001b[33m\"\u001b[39m\n\u001b[32m    477\u001b[39m             \u001b[33m\"\u001b[39m\u001b[33mmay need to be rebuilt.\u001b[39m\u001b[33m\"\u001b[39m\n\u001b[32m    478\u001b[39m             \u001b[33m\"\u001b[39m\u001b[33mPlease run cmdstanpy.rebuild_cmdstan().\u001b[39m\u001b[38;5;130;01m\\n\u001b[39;00m\u001b[33m\"\u001b[39m\n\u001b[32m    479\u001b[39m             \u001b[33m\"\u001b[39m\u001b[33mIf the issue persists please open a bug report\u001b[39m\u001b[33m\"\u001b[39m\n\u001b[32m    480\u001b[39m         )\n\u001b[32m--> \u001b[39m\u001b[32m481\u001b[39m     \u001b[38;5;28;01mraise\u001b[39;00m \u001b[38;5;167;01mValueError\u001b[39;00m(\n\u001b[32m    482\u001b[39m         \u001b[33mf\u001b[39m\u001b[33m\"\u001b[39m\u001b[33mFailed to compile Stan model \u001b[39m\u001b[33m'\u001b[39m\u001b[38;5;132;01m{\u001b[39;00msrc\u001b[38;5;132;01m}\u001b[39;00m\u001b[33m'\u001b[39m\u001b[33m. \u001b[39m\u001b[33m\"\u001b[39m \u001b[33mf\u001b[39m\u001b[33m\"\u001b[39m\u001b[33mConsole:\u001b[39m\u001b[38;5;130;01m\\n\u001b[39;00m\u001b[38;5;132;01m{\u001b[39;00mconsole\u001b[38;5;132;01m}\u001b[39;00m\u001b[33m\"\u001b[39m\n\u001b[32m    483\u001b[39m     )\n\u001b[32m    484\u001b[39m \u001b[38;5;28;01mreturn\u001b[39;00m \u001b[38;5;28mstr\u001b[39m(exe_target)\n",
      "\u001b[31mValueError\u001b[39m: Failed to compile Stan model '/Users/ogeohia/PYTHON/eo-colon-cancer-trends-ci5plus/models/hierarchical_colon_nb.stan'. Console:\n\n--- Translating Stan model to C++ code ---\nbin/stanc --filename-in-msg=hierarchical_colon_nb.stan --o=/Users/ogeohia/PYTHON/eo-colon-cancer-trends-ci5plus/models/hierarchical_colon_nb.hpp /Users/ogeohia/PYTHON/eo-colon-cancer-trends-ci5plus/models/hierarchical_colon_nb.stan\nSyntax error in 'hierarchical_colon_nb.stan', line 57, column 12 to column 13, parsing error:\n   -------------------------------------------------\n    55:  generated quantities {\n    56:    vector[N] log_lambda;\n    57:    int y_rep[N];\n                     ^\n    58:    for (n in 1:N) {\n    59:      real eta = alpha\n   -------------------------------------------------\n\n\";\" expected after variable declaration.\nIt looks like you are trying to use the old array syntax.\nPlease use the new syntax:\narray[N] int y_rep;\nmake: *** [make/program:66: /Users/ogeohia/PYTHON/eo-colon-cancer-trends-ci5plus/models/hierarchical_colon_nb.hpp] Error 1\n\nCommand ['make', 'STANCFLAGS+=--filename-in-msg=hierarchical_colon_nb.stan', '/Users/ogeohia/PYTHON/eo-colon-cancer-trends-ci5plus/models/hierarchical_colon_nb']\n\terror during processing No such file or directory\n"
     ]
    }
   ],
   "source": [
    "# Compile and sample\n",
    "model = CmdStanModel(stan_file=\"models/hierarchical_colon_nb.stan\")\n",
    "\n",
    "fit = model.sample(\n",
    "    data=stan_data,\n",
    "    chains=4, parallel_chains=4,\n",
    "    iter_warmup=1000, iter_sampling=1000,\n",
    "    adapt_delta=0.95, max_treedepth=12\n",
    ")\n",
    "\n",
    "print(fit)\n",
    "summ = fit.summary()\n",
    "summ.loc[['alpha','sigma_region','sigma_country','beta_male','beta_year','phi']]"
   ]
  }
 ],
 "metadata": {
  "kernelspec": {
   "display_name": "colon-cancer-data",
   "language": "python",
   "name": "python3"
  },
  "language_info": {
   "codemirror_mode": {
    "name": "ipython",
    "version": 3
   },
   "file_extension": ".py",
   "mimetype": "text/x-python",
   "name": "python",
   "nbconvert_exporter": "python",
   "pygments_lexer": "ipython3",
   "version": "3.13.7"
  }
 },
 "nbformat": 4,
 "nbformat_minor": 5
}
